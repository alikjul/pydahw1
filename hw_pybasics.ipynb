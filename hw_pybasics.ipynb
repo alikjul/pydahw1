{
 "cells": [
  {
   "cell_type": "markdown",
   "metadata": {},
   "source": [
    "**Задание 1**. Даны 2 строки: *long_phrase* и *short_phrase*. \n",
    "Напишите код, который проверяет действительно ли длинная фраза *long_phrase* длиннее короткой *short_phrase*. И выводит *True* или *False* в зависимости от результата сравнения."
   ]
  },
  {
   "cell_type": "code",
   "execution_count": null,
   "metadata": {},
   "outputs": [],
   "source": [
    "long_phrase = 'Насколько проще было бы писать программы, если бы не заказчики'\n",
    "short_phrase = '640Кб должно хватить для любых задач. Билл Гейтс (по легенде)'\n",
    "len(long_phrase) > len(short_phrase)"
   ]
  },
  {
   "cell_type": "code",
   "execution_count": null,
   "metadata": {
    "scrolled": true
   },
   "outputs": [],
   "source": []
  },
  {
   "cell_type": "markdown",
   "metadata": {},
   "source": [
    "**Задание 2**. Дано значение объема файла в байтах (*в мегабайте 2^20 байт*). Напишите перевод этого значения в мегабайты в формате: \"*Объем файла равен 213.68Mb*\"."
   ]
  },
  {
   "cell_type": "code",
   "execution_count": null,
   "metadata": {},
   "outputs": [],
   "source": [
    "#не уверен, что правильно понял задание, поэтому просто сделал перевод значений из байтов в мегабайты.\n",
    "#надеюсь, это примерно то, что требовалось.\n",
    "user_input = int(input('введите размер файла в байтах'))\n",
    "print('Объём файла в мегабайтах равен', user_input // 1048576, 'МБ')"
   ]
  },
  {
   "cell_type": "markdown",
   "metadata": {},
   "source": [
    "**Задание 3**. Разработать приложение для определения знака зодиака по дате рождения. Пример:\n",
    "\n",
    "Введите месяц: март\n",
    "\n",
    "Введите число: 6\n",
    "\n",
    "Вывод:\n",
    "Рыбы"
   ]
  },
  {
   "cell_type": "code",
   "execution_count": null,
   "metadata": {},
   "outputs": [],
   "source": [
    "#Почему-то у меня такое чувство, что есть способ сделать всё куда лаконичней, но я не смог его придумать.\n",
    "print('Узнай свой знак зодиака!')\n",
    "day, month = map(int, input('Введите Вашу дату рождения в формате Д М (цифрами, через пробел)').split(' '))\n",
    "if (day >= 21 and day <= 31 and month == 3) or (day >= 1 and day <= 20 and month == 4):\n",
    "    print('Вы — овен!')\n",
    "elif (day >= 21 and day <= 30 and month == 4) or (day >= 1 and day <= 21 and month == 5):\n",
    "    print('Вы — телец!')\n",
    "elif (day >= 22 and day <= 31 and month == 5) or (day >= 1 and day <= 21 and month == 6):\n",
    "    print('Вы — близнецы!')\n",
    "elif (day >= 22 and day <= 30 and month == 6) or (day >= 1 and day <= 22 and month == 7):\n",
    "    print('Вы — рак!')\n",
    "elif (day >= 23 and day <= 31 and month == 7) or (day >= 1 and day <= 23 and month == 8):\n",
    "    print('Вы — лев!')\n",
    "elif (day >= 24 and day <= 31 and month == 8) or (day >= 1 and day <= 23 and month == 9):\n",
    "    print('Вы — дева!')\n",
    "elif (day >= 24 and day <= 30 and month == 9) or (day >= 1 and day <= 23 and month == 10):\n",
    "    print('Вы — весы!')\n",
    "elif (day >= 24 and day <= 31 and month == 10) or (day >= 1 and day <= 22 and month == 11):\n",
    "    print('Вы — скорпион!')\n",
    "elif (day >= 23 and day <= 30 and month == 11) or (day >= 1 and day <= 21 and month == 12):\n",
    "    print('Вы — стрелец!')\n",
    "elif (day >= 22 and day <= 31 and month == 12) or (day >= 1 and day <= 20 and month == 1):\n",
    "    print('Вы — козерог!')\n",
    "elif (day >= 21 and day <= 31 and month == 1) or (day >= 1 and day <= 18 and month == 2):\n",
    "    print('Вы — водолей!')\n",
    "elif (day >= 19 and day <= 29 and month == 2) or (day >= 1 and day <= 20 and month == 3):\n",
    "    print('Вы — рыбы!')\n",
    "else:\n",
    "    print('Вы ввели некорректное значение!')"
   ]
  },
  {
   "cell_type": "markdown",
   "metadata": {},
   "source": [
    "**Задание 4**. Нужно разработать приложение для финансового планирования.\n",
    "Приложение учитывает сколько уходит на ипотеку, \"на жизнь\" и сколько нужно отложить на пенсию.\n",
    "Пользователь вводит:\n",
    "- заработанную плату в месяц.\n",
    "- сколько процентов от ЗП уходит на ипотеку.\n",
    "- сколько процентов от ЗП уходит \"на жизнь\".\n",
    "- сколько раз приходит премия в год.\n",
    "\n",
    "Остальная часть заработанной платы откладывается на пенсию.\n",
    "\n",
    "Также пользователю приходит премия в размере зарплаты, от которой половина уходит на отпуск, а вторая половина откладывается.\n",
    "\n",
    "Программа должна учитывать сколько премий было в год.\n",
    "\n",
    "Нужно вывести сколько денег тратит пользователь на ипотеку и сколько он накопит за год.\n",
    "\n",
    "Пример:\n",
    "\n",
    "Введите заработанную плату в месяц: 100000\n",
    "\n",
    "Введите сколько процентов уходит на ипотеку: 30\n",
    "\n",
    "Введите сколько процентов уходит на жизнь: 50\n",
    "\n",
    "Введите количество премий за год: 2\n",
    "\n",
    "Вывод:\n",
    "На ипотеку было потрачено: 360000 рублей\n",
    "Было накоплено: 340000 рублей"
   ]
  },
  {
   "cell_type": "code",
   "execution_count": null,
   "metadata": {},
   "outputs": [],
   "source": [
    "salary = int(input('Введите Вашу заработанную плату (в месяц, рублей)'))\n",
    "if salary >= 0 and salary <= 1000000:\n",
    "    mortgage = int(input('Введите Ваши траты по ипотеке (в месяц, в процентах)'))\n",
    "    #Сейчас мы убедимся, что пользователь вводит именно процент, а не какое-то другое число.\n",
    "    #Для простоты мы не будем брать те случаи, когда выплаты по ипотеке превышают официальную зарплату. \n",
    "    if mortgage >= 0 and mortgage <= 100:\n",
    "        #Аналогисно для прочих трат\n",
    "        expenses = int(input('Введите Ваши расходы на жизнь (в месяц, в процентах)'))\n",
    "        if expenses >= 0 and expenses <= 100:\n",
    "            num_of_bonuses = int(input('Введите количество премий в год'))\n",
    "            mortgage_yearly = salary / 100 * mortgage * 12\n",
    "            bonus = salary / 2\n",
    "            savings = (salary / 100 * (100 - mortgage - expenses) * 12) + (bonus * num_of_bonuses)\n",
    "            print('На ипотеку было потрачено:', mortgage_yearly, 'рублей')\n",
    "            print('Было накоплено:', savings, 'рублей')\n",
    "        else:\n",
    "            print('Вы ввели некорректное значение')\n",
    "    else:\n",
    "        print('Вы ввели некорректное значение')\n",
    "elif salary >= 1000001:\n",
    "    print('Не верю!')\n",
    "else:\n",
    "    print('Вы ввели некорректное значение')"
   ]
  },
  {
   "cell_type": "code",
   "execution_count": null,
   "metadata": {},
   "outputs": [],
   "source": []
  }
 ],
 "metadata": {
  "kernelspec": {
   "display_name": "Python 3",
   "language": "python",
   "name": "python3"
  },
  "language_info": {
   "codemirror_mode": {
    "name": "ipython",
    "version": 3
   },
   "file_extension": ".py",
   "mimetype": "text/x-python",
   "name": "python",
   "nbconvert_exporter": "python",
   "pygments_lexer": "ipython3",
   "version": "3.7.6"
  }
 },
 "nbformat": 4,
 "nbformat_minor": 2
}
